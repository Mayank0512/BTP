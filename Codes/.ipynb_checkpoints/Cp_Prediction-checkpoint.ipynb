{
 "cells": [
  {
   "cell_type": "code",
   "execution_count": null,
   "id": "39c5f417",
   "metadata": {},
   "outputs": [],
   "source": [
    "import numpy as np\n",
    "import pandas as pd\n",
    "import matplotlib.pyplot as plt\n",
    "import seaborn as sns\n",
    "import sklearn\n",
    "from sklearn.ensemble import RandomForestRegressor\n",
    "from sklearn.model_selection import train_test_split"
   ]
  },
  {
   "cell_type": "code",
   "execution_count": null,
   "id": "24b5ea81",
   "metadata": {},
   "outputs": [],
   "source": [
    "df = pd.read_excel('../Data/Data-CP_Prediction.xlsx')"
   ]
  },
  {
   "cell_type": "code",
   "execution_count": null,
   "id": "82bb8ede",
   "metadata": {},
   "outputs": [],
   "source": [
    "X = df.drop(['name','Cp (J/mol-K)'],axis=1)"
   ]
  },
  {
   "cell_type": "code",
   "execution_count": null,
   "id": "e939af12",
   "metadata": {},
   "outputs": [],
   "source": [
    "y = df['Cp (J/mol-K)']"
   ]
  },
  {
   "cell_type": "code",
   "execution_count": null,
   "id": "4265e71e",
   "metadata": {},
   "outputs": [],
   "source": [
    "X_train, X_test,y_train, y_test = train_test_split(X,y, random_state=10, test_size=0.25, shuffle=True)"
   ]
  },
  {
   "cell_type": "code",
   "execution_count": null,
   "id": "69041f44",
   "metadata": {},
   "outputs": [],
   "source": [
    "regr = RandomForestRegressor(max_depth=5, random_state=0)"
   ]
  },
  {
   "cell_type": "code",
   "execution_count": null,
   "id": "2b5de7a3",
   "metadata": {},
   "outputs": [],
   "source": [
    "regr.fit(X_train, y_train)"
   ]
  },
  {
   "cell_type": "code",
   "execution_count": null,
   "id": "3622d85b",
   "metadata": {},
   "outputs": [],
   "source": [
    "regr.score(X_train,y_train)"
   ]
  },
  {
   "cell_type": "code",
   "execution_count": null,
   "id": "b9a251de",
   "metadata": {},
   "outputs": [],
   "source": [
    "regr.score(X_test,y_test)"
   ]
  },
  {
   "cell_type": "code",
   "execution_count": null,
   "id": "083be33a",
   "metadata": {},
   "outputs": [],
   "source": [
    "train_error = regr.predict(X_train)-y_train\n",
    "test_error = regr.predict(X_test)-y_test"
   ]
  },
  {
   "cell_type": "code",
   "execution_count": null,
   "id": "2b259c9d",
   "metadata": {},
   "outputs": [],
   "source": [
    "train = []\n",
    "test = []\n",
    "\n",
    "for i in range(0,len(X_train)):\n",
    "    train.append(i)\n",
    "\n",
    "for i in range(0,len(X_test)):\n",
    "    test.append(i)"
   ]
  },
  {
   "cell_type": "code",
   "execution_count": null,
   "id": "f09bea10",
   "metadata": {},
   "outputs": [],
   "source": [
    "plt.scatter(train,train_error)\n",
    "plt.xlabel(\"Serial Number\")\n",
    "plt.ylabel(\"Error in prediction\")\n",
    "plt.title(\"Error in training set\")"
   ]
  },
  {
   "cell_type": "code",
   "execution_count": null,
   "id": "2b82bcfa",
   "metadata": {},
   "outputs": [],
   "source": [
    "plt.scatter(test,test_error)\n",
    "plt.xlabel(\"Serial Number\")\n",
    "plt.ylabel(\"Error in prediction\")\n",
    "plt.title(\"Error in test set\")"
   ]
  }
 ],
 "metadata": {
  "kernelspec": {
   "display_name": "Python 3 (ipykernel)",
   "language": "python",
   "name": "python3"
  },
  "language_info": {
   "codemirror_mode": {
    "name": "ipython",
    "version": 3
   },
   "file_extension": ".py",
   "mimetype": "text/x-python",
   "name": "python",
   "nbconvert_exporter": "python",
   "pygments_lexer": "ipython3",
   "version": "3.10.12"
  }
 },
 "nbformat": 4,
 "nbformat_minor": 5
}
