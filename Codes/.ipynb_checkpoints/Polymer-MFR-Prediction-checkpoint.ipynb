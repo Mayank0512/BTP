{
 "cells": [
  {
   "cell_type": "markdown",
   "metadata": {
    "execution": {
     "iopub.execute_input": "2023-08-13T15:09:33.542978Z",
     "iopub.status.busy": "2023-08-13T15:09:33.542061Z",
     "iopub.status.idle": "2023-08-13T15:09:34.470765Z",
     "shell.execute_reply": "2023-08-13T15:09:34.469469Z",
     "shell.execute_reply.started": "2023-08-13T15:09:33.542538Z"
    }
   },
   "source": [
    "## The code is adapted from https://www.kaggle.com/code/chiter42/polymer-mfr-prediction\n",
    "## Credits for the code :- Polina\n",
    "## Kaggle profile :- https://www.kaggle.com/chiter42"
   ]
  },
  {
   "cell_type": "code",
   "execution_count": 1,
   "metadata": {},
   "outputs": [
    {
     "ename": "ModuleNotFoundError",
     "evalue": "No module named 'xgboost'",
     "output_type": "error",
     "traceback": [
      "\u001b[0;31m---------------------------------------------------------------------------\u001b[0m",
      "\u001b[0;31mModuleNotFoundError\u001b[0m                       Traceback (most recent call last)",
      "\u001b[0;32m/tmp/ipykernel_8258/3151571146.py\u001b[0m in \u001b[0;36m<module>\u001b[0;34m\u001b[0m\n\u001b[1;32m     11\u001b[0m \u001b[0;32mfrom\u001b[0m \u001b[0mcatboost\u001b[0m \u001b[0;32mimport\u001b[0m \u001b[0mCatBoostRegressor\u001b[0m\u001b[0;34m,\u001b[0m\u001b[0mPool\u001b[0m\u001b[0;34m\u001b[0m\u001b[0;34m\u001b[0m\u001b[0m\n\u001b[1;32m     12\u001b[0m \u001b[0;32mfrom\u001b[0m \u001b[0msklearn\u001b[0m\u001b[0;34m.\u001b[0m\u001b[0mneighbors\u001b[0m \u001b[0;32mimport\u001b[0m \u001b[0mKNeighborsRegressor\u001b[0m\u001b[0;34m\u001b[0m\u001b[0;34m\u001b[0m\u001b[0m\n\u001b[0;32m---> 13\u001b[0;31m \u001b[0;32mimport\u001b[0m \u001b[0mxgboost\u001b[0m\u001b[0;34m\u001b[0m\u001b[0;34m\u001b[0m\u001b[0m\n\u001b[0m\u001b[1;32m     14\u001b[0m \u001b[0;32mfrom\u001b[0m \u001b[0mxgboost\u001b[0m \u001b[0;32mimport\u001b[0m \u001b[0mXGBRegressor\u001b[0m\u001b[0;34m\u001b[0m\u001b[0;34m\u001b[0m\u001b[0m\n",
      "\u001b[0;31mModuleNotFoundError\u001b[0m: No module named 'xgboost'"
     ]
    }
   ],
   "source": [
    "import numpy as np \n",
    "import pandas as pd \n",
    "import matplotlib.pyplot as plt\n",
    "import seaborn as sns\n",
    "from sklearn.model_selection import train_test_split\n",
    "from sklearn.preprocessing import StandardScaler\n",
    "from sklearn.model_selection import cross_val_score\n",
    "from sklearn.metrics import mean_squared_error\n",
    "from sklearn.metrics import accuracy_score\n",
    "from sklearn.pipeline import Pipeline\n",
    "from catboost import CatBoostRegressor,Pool\n",
    "from sklearn.neighbors import KNeighborsRegressor\n",
    "import xgboost\n",
    "from xgboost import XGBRegressor"
   ]
  },
  {
   "cell_type": "code",
   "execution_count": null,
   "metadata": {
    "execution": {
     "iopub.execute_input": "2023-08-13T15:09:34.473821Z",
     "iopub.status.busy": "2023-08-13T15:09:34.472835Z",
     "iopub.status.idle": "2023-08-13T15:09:34.536761Z",
     "shell.execute_reply": "2023-08-13T15:09:34.535398Z",
     "shell.execute_reply.started": "2023-08-13T15:09:34.473780Z"
    }
   },
   "outputs": [],
   "source": [
    "data = pd.read_csv('..Data/Data-MFR_Prediction.xlsx') \n",
    "\n",
    "data.head(10)"
   ]
  },
  {
   "cell_type": "code",
   "execution_count": null,
   "metadata": {
    "execution": {
     "iopub.execute_input": "2023-08-13T15:09:34.538701Z",
     "iopub.status.busy": "2023-08-13T15:09:34.538347Z",
     "iopub.status.idle": "2023-08-13T15:09:34.551631Z",
     "shell.execute_reply": "2023-08-13T15:09:34.549965Z",
     "shell.execute_reply.started": "2023-08-13T15:09:34.538669Z"
    }
   },
   "outputs": [],
   "source": [
    "max(data['MFR'])"
   ]
  },
  {
   "cell_type": "code",
   "execution_count": null,
   "metadata": {
    "execution": {
     "iopub.execute_input": "2023-08-13T15:09:34.556528Z",
     "iopub.status.busy": "2023-08-13T15:09:34.556027Z",
     "iopub.status.idle": "2023-08-13T15:09:34.568251Z",
     "shell.execute_reply": "2023-08-13T15:09:34.567004Z",
     "shell.execute_reply.started": "2023-08-13T15:09:34.556481Z"
    }
   },
   "outputs": [],
   "source": [
    "data = data.rename(columns = {'Unnamed: 0': 'Date', '513FC31103.pv': 'Propylene feed rate (kg/h)','513HC31114-5.mv': 'Hydrogen : C3','513PC31201.pv':'Reactor pressure (bar)','513LC31202.pv':'Reactor bed level (m)','513FC31409.pv':'Ethylene flow rate (kg/h)','513FC31114-5.pv':'Catalyst feed rate (kg/h)','513TC31220.pv':'Reactor temperature','MFR':'MFR'})"
   ]
  },
  {
   "cell_type": "code",
   "execution_count": null,
   "metadata": {
    "execution": {
     "iopub.execute_input": "2023-08-13T15:09:34.570050Z",
     "iopub.status.busy": "2023-08-13T15:09:34.569599Z",
     "iopub.status.idle": "2023-08-13T15:09:34.593640Z",
     "shell.execute_reply": "2023-08-13T15:09:34.592084Z",
     "shell.execute_reply.started": "2023-08-13T15:09:34.570009Z"
    }
   },
   "outputs": [],
   "source": [
    "np.unique(data.duplicated()) #Verifying there are no duplicates"
   ]
  },
  {
   "cell_type": "code",
   "execution_count": null,
   "metadata": {
    "execution": {
     "iopub.execute_input": "2023-08-13T15:09:34.596432Z",
     "iopub.status.busy": "2023-08-13T15:09:34.595940Z",
     "iopub.status.idle": "2023-08-13T15:09:34.629166Z",
     "shell.execute_reply": "2023-08-13T15:09:34.627211Z",
     "shell.execute_reply.started": "2023-08-13T15:09:34.596391Z"
    }
   },
   "outputs": [],
   "source": [
    "data"
   ]
  },
  {
   "cell_type": "code",
   "execution_count": null,
   "metadata": {
    "execution": {
     "iopub.execute_input": "2023-08-13T15:09:34.632518Z",
     "iopub.status.busy": "2023-08-13T15:09:34.631969Z",
     "iopub.status.idle": "2023-08-13T15:09:34.644762Z",
     "shell.execute_reply": "2023-08-13T15:09:34.642966Z",
     "shell.execute_reply.started": "2023-08-13T15:09:34.632476Z"
    }
   },
   "outputs": [],
   "source": [
    "#Checking for na's in the data and in the target variable (MFR)\n",
    "print(np.unique(data['MFR'].isna(),return_counts=True))\n",
    "print(np.unique(data.isna(),return_counts=True))\n"
   ]
  },
  {
   "cell_type": "code",
   "execution_count": null,
   "metadata": {
    "execution": {
     "iopub.execute_input": "2023-08-13T15:09:34.647799Z",
     "iopub.status.busy": "2023-08-13T15:09:34.647334Z",
     "iopub.status.idle": "2023-08-13T15:09:34.661704Z",
     "shell.execute_reply": "2023-08-13T15:09:34.660752Z",
     "shell.execute_reply.started": "2023-08-13T15:09:34.647761Z"
    }
   },
   "outputs": [],
   "source": [
    "(data.isna().mean()*100).round(1)"
   ]
  },
  {
   "cell_type": "code",
   "execution_count": null,
   "metadata": {
    "execution": {
     "iopub.execute_input": "2023-08-13T15:09:34.664195Z",
     "iopub.status.busy": "2023-08-13T15:09:34.663733Z",
     "iopub.status.idle": "2023-08-13T15:09:34.678854Z",
     "shell.execute_reply": "2023-08-13T15:09:34.677734Z",
     "shell.execute_reply.started": "2023-08-13T15:09:34.664156Z"
    }
   },
   "outputs": [],
   "source": [
    "data=data.drop([\"Date\"],axis=1) #droping the Data column"
   ]
  },
  {
   "cell_type": "code",
   "execution_count": null,
   "metadata": {
    "execution": {
     "iopub.execute_input": "2023-08-13T15:09:34.686711Z",
     "iopub.status.busy": "2023-08-13T15:09:34.686289Z",
     "iopub.status.idle": "2023-08-13T15:09:34.697279Z",
     "shell.execute_reply": "2023-08-13T15:09:34.695916Z",
     "shell.execute_reply.started": "2023-08-13T15:09:34.686672Z"
    }
   },
   "outputs": [],
   "source": [
    "data=data.fillna(data.mean()) #Filling Na's with mean"
   ]
  },
  {
   "cell_type": "code",
   "execution_count": null,
   "metadata": {
    "execution": {
     "iopub.execute_input": "2023-08-13T15:09:34.699952Z",
     "iopub.status.busy": "2023-08-13T15:09:34.699516Z",
     "iopub.status.idle": "2023-08-13T15:09:34.711147Z",
     "shell.execute_reply": "2023-08-13T15:09:34.709825Z",
     "shell.execute_reply.started": "2023-08-13T15:09:34.699868Z"
    }
   },
   "outputs": [],
   "source": [
    "data.dtypes"
   ]
  },
  {
   "cell_type": "code",
   "execution_count": null,
   "metadata": {
    "execution": {
     "iopub.execute_input": "2023-08-13T15:09:34.715787Z",
     "iopub.status.busy": "2023-08-13T15:09:34.715144Z",
     "iopub.status.idle": "2023-08-13T15:09:35.138840Z",
     "shell.execute_reply": "2023-08-13T15:09:35.136806Z",
     "shell.execute_reply.started": "2023-08-13T15:09:34.715739Z"
    }
   },
   "outputs": [],
   "source": [
    "plt.figure(figsize=[12,9])\n",
    "\n",
    "plt.hist(data['MFR'], bins = 100, alpha=.5)\n",
    "\n",
    "plt.xlabel(\"MFR\")\n",
    "plt.ylabel(\"Distribution\")\n",
    "\n",
    "\n",
    "plt.title(\"Histogram of the MFR distribution\")\n",
    "plt.show()"
   ]
  },
  {
   "cell_type": "code",
   "execution_count": null,
   "metadata": {
    "execution": {
     "iopub.execute_input": "2023-08-13T15:09:35.140545Z",
     "iopub.status.busy": "2023-08-13T15:09:35.140183Z",
     "iopub.status.idle": "2023-08-13T15:09:35.153605Z",
     "shell.execute_reply": "2023-08-13T15:09:35.151759Z",
     "shell.execute_reply.started": "2023-08-13T15:09:35.140512Z"
    }
   },
   "outputs": [],
   "source": [
    "lower = data['MFR'].quantile(0.01)\n",
    "upper = data['MFR'].quantile(0.99) \n",
    "\n",
    "print(lower)\n",
    "print(upper)"
   ]
  },
  {
   "cell_type": "code",
   "execution_count": null,
   "metadata": {
    "execution": {
     "iopub.execute_input": "2023-08-13T15:09:35.156229Z",
     "iopub.status.busy": "2023-08-13T15:09:35.155698Z",
     "iopub.status.idle": "2023-08-13T15:09:35.162687Z",
     "shell.execute_reply": "2023-08-13T15:09:35.161409Z",
     "shell.execute_reply.started": "2023-08-13T15:09:35.156183Z"
    }
   },
   "outputs": [],
   "source": [
    "#Taking data that lies between the min and max"
   ]
  },
  {
   "cell_type": "code",
   "execution_count": null,
   "metadata": {
    "execution": {
     "iopub.execute_input": "2023-08-13T15:09:35.165269Z",
     "iopub.status.busy": "2023-08-13T15:09:35.164758Z",
     "iopub.status.idle": "2023-08-13T15:09:35.183445Z",
     "shell.execute_reply": "2023-08-13T15:09:35.182094Z",
     "shell.execute_reply.started": "2023-08-13T15:09:35.165224Z"
    }
   },
   "outputs": [],
   "source": [
    "data = data.query('MFR> 3 and MFR< 20')"
   ]
  },
  {
   "cell_type": "code",
   "execution_count": null,
   "metadata": {
    "execution": {
     "iopub.execute_input": "2023-08-13T15:09:35.185933Z",
     "iopub.status.busy": "2023-08-13T15:09:35.185039Z",
     "iopub.status.idle": "2023-08-13T15:09:35.196951Z",
     "shell.execute_reply": "2023-08-13T15:09:35.195721Z",
     "shell.execute_reply.started": "2023-08-13T15:09:35.185879Z"
    }
   },
   "outputs": [],
   "source": [
    "#Plotting the correlation plot"
   ]
  },
  {
   "cell_type": "code",
   "execution_count": null,
   "metadata": {
    "execution": {
     "iopub.execute_input": "2023-08-13T15:09:35.199024Z",
     "iopub.status.busy": "2023-08-13T15:09:35.198513Z",
     "iopub.status.idle": "2023-08-13T15:09:35.815226Z",
     "shell.execute_reply": "2023-08-13T15:09:35.813656Z",
     "shell.execute_reply.started": "2023-08-13T15:09:35.198987Z"
    }
   },
   "outputs": [],
   "source": [
    "plt.figure(figsize=(10,8))\n",
    "corr = data.corr()\n",
    "sns.heatmap(corr, annot=True)\n",
    "plt.show()"
   ]
  },
  {
   "cell_type": "code",
   "execution_count": null,
   "metadata": {
    "execution": {
     "iopub.execute_input": "2023-08-13T15:09:35.818617Z",
     "iopub.status.busy": "2023-08-13T15:09:35.817134Z",
     "iopub.status.idle": "2023-08-13T15:09:35.827204Z",
     "shell.execute_reply": "2023-08-13T15:09:35.825647Z",
     "shell.execute_reply.started": "2023-08-13T15:09:35.818551Z"
    }
   },
   "outputs": [],
   "source": [
    "data['ln(MFR)'] =  np.log(data['MFR'])"
   ]
  },
  {
   "cell_type": "code",
   "execution_count": null,
   "metadata": {
    "execution": {
     "iopub.execute_input": "2023-08-13T15:09:35.830147Z",
     "iopub.status.busy": "2023-08-13T15:09:35.829161Z",
     "iopub.status.idle": "2023-08-13T15:09:36.631361Z",
     "shell.execute_reply": "2023-08-13T15:09:36.629966Z",
     "shell.execute_reply.started": "2023-08-13T15:09:35.830093Z"
    }
   },
   "outputs": [],
   "source": [
    "plt.figure(figsize=(10,8))\n",
    "corr = data.corr()\n",
    "sns.heatmap(corr, annot=True)\n",
    "plt.show()"
   ]
  },
  {
   "cell_type": "code",
   "execution_count": null,
   "metadata": {
    "execution": {
     "iopub.execute_input": "2023-08-13T15:09:36.637359Z",
     "iopub.status.busy": "2023-08-13T15:09:36.633220Z",
     "iopub.status.idle": "2023-08-13T15:09:36.645239Z",
     "shell.execute_reply": "2023-08-13T15:09:36.643959Z",
     "shell.execute_reply.started": "2023-08-13T15:09:36.637298Z"
    }
   },
   "outputs": [],
   "source": [
    "data=data.drop('MFR',axis=1)"
   ]
  },
  {
   "cell_type": "code",
   "execution_count": null,
   "metadata": {
    "execution": {
     "iopub.execute_input": "2023-08-13T15:09:36.647938Z",
     "iopub.status.busy": "2023-08-13T15:09:36.647150Z",
     "iopub.status.idle": "2023-08-13T15:09:51.473223Z",
     "shell.execute_reply": "2023-08-13T15:09:51.471384Z",
     "shell.execute_reply.started": "2023-08-13T15:09:36.647874Z"
    }
   },
   "outputs": [],
   "source": [
    "sns.pairplot(data)"
   ]
  },
  {
   "cell_type": "code",
   "execution_count": null,
   "metadata": {
    "execution": {
     "iopub.execute_input": "2023-08-13T15:09:51.475453Z",
     "iopub.status.busy": "2023-08-13T15:09:51.475015Z",
     "iopub.status.idle": "2023-08-13T15:09:51.489432Z",
     "shell.execute_reply": "2023-08-13T15:09:51.487963Z",
     "shell.execute_reply.started": "2023-08-13T15:09:51.475413Z"
    }
   },
   "outputs": [],
   "source": [
    "target = data['ln(MFR)']\n",
    "features = data.drop('ln(MFR)', axis=1)\n",
    "features_train, features_test, target_train, target_test = train_test_split(features, target, test_size=0.25, random_state=12345)"
   ]
  },
  {
   "cell_type": "code",
   "execution_count": null,
   "metadata": {
    "execution": {
     "iopub.execute_input": "2023-08-13T15:09:51.492290Z",
     "iopub.status.busy": "2023-08-13T15:09:51.491429Z",
     "iopub.status.idle": "2023-08-13T15:09:51.511047Z",
     "shell.execute_reply": "2023-08-13T15:09:51.509803Z",
     "shell.execute_reply.started": "2023-08-13T15:09:51.492233Z"
    }
   },
   "outputs": [],
   "source": [
    "len(features_test)"
   ]
  },
  {
   "cell_type": "markdown",
   "metadata": {},
   "source": [
    "# Scaling"
   ]
  },
  {
   "cell_type": "code",
   "execution_count": null,
   "metadata": {
    "execution": {
     "iopub.execute_input": "2023-08-13T15:09:51.514322Z",
     "iopub.status.busy": "2023-08-13T15:09:51.513802Z",
     "iopub.status.idle": "2023-08-13T15:09:51.536137Z",
     "shell.execute_reply": "2023-08-13T15:09:51.534963Z",
     "shell.execute_reply.started": "2023-08-13T15:09:51.514282Z"
    }
   },
   "outputs": [],
   "source": [
    "scaler = StandardScaler()\n",
    "scaler.fit(features_train)\n",
    "features_train= scaler.transform(features_train)\n",
    "features_test = scaler.transform(features_test)"
   ]
  },
  {
   "cell_type": "markdown",
   "metadata": {},
   "source": [
    "# Decision Tree Regression"
   ]
  },
  {
   "cell_type": "code",
   "execution_count": null,
   "metadata": {
    "execution": {
     "iopub.execute_input": "2023-08-13T15:09:51.538341Z",
     "iopub.status.busy": "2023-08-13T15:09:51.537843Z",
     "iopub.status.idle": "2023-08-13T15:09:51.740098Z",
     "shell.execute_reply": "2023-08-13T15:09:51.738544Z",
     "shell.execute_reply.started": "2023-08-13T15:09:51.538300Z"
    }
   },
   "outputs": [],
   "source": [
    "from sklearn.tree import DecisionTreeRegressor\n",
    "for depth in range(1, 15):\n",
    "    pipeline = Pipeline([('Scaler', StandardScaler()), ('DTR', DecisionTreeRegressor(max_depth=depth,random_state=12345))])\n",
    "    pipeline.fit(features_train, target_train)\n",
    "    predicted_target_dtr = pipeline.predict(features_test)\n",
    "    print(\"max_depth =\", depth, \":\", mean_squared_error(target_test, predicted_target_dtr)**0.5)"
   ]
  },
  {
   "cell_type": "markdown",
   "metadata": {},
   "source": [
    "# K-Nearest Neighbors Regression"
   ]
  },
  {
   "cell_type": "code",
   "execution_count": null,
   "metadata": {
    "execution": {
     "iopub.execute_input": "2023-08-13T15:09:51.742783Z",
     "iopub.status.busy": "2023-08-13T15:09:51.742309Z",
     "iopub.status.idle": "2023-08-13T15:09:51.767475Z",
     "shell.execute_reply": "2023-08-13T15:09:51.766419Z",
     "shell.execute_reply.started": "2023-08-13T15:09:51.742741Z"
    }
   },
   "outputs": [],
   "source": [
    "pipeline = Pipeline([('Scaler', StandardScaler()), ('KNR', KNeighborsRegressor())])\n",
    "pipeline.fit(features_train, target_train)\n",
    "predicted_target_knr = pipeline.predict(features_test)\n",
    "\n",
    "print('RMSE -', mean_squared_error(target_test, predicted_target_knr)**0.5)"
   ]
  },
  {
   "cell_type": "markdown",
   "metadata": {},
   "source": [
    "# CatBoost"
   ]
  },
  {
   "cell_type": "code",
   "execution_count": null,
   "metadata": {
    "execution": {
     "iopub.execute_input": "2023-08-13T15:09:51.770318Z",
     "iopub.status.busy": "2023-08-13T15:09:51.769118Z",
     "iopub.status.idle": "2023-08-13T15:10:04.200264Z",
     "shell.execute_reply": "2023-08-13T15:10:04.198959Z",
     "shell.execute_reply.started": "2023-08-13T15:09:51.770278Z"
    }
   },
   "outputs": [],
   "source": [
    "catboost = CatBoostRegressor(loss_function='RMSE',iterations=250, logging_level='Silent')\n",
    "parameters_cat = {'depth':[1,8], 'learning_rate':np.arange(0.1,1,0.2)}\n",
    "catboost_grid = catboost.grid_search(parameters_cat,\n",
    "            Pool(features_train,target_train),cv=3, verbose=100, plot=False)"
   ]
  },
  {
   "cell_type": "code",
   "execution_count": null,
   "metadata": {
    "execution": {
     "iopub.execute_input": "2023-08-13T15:10:04.210847Z",
     "iopub.status.busy": "2023-08-13T15:10:04.209657Z",
     "iopub.status.idle": "2023-08-13T15:10:05.436733Z",
     "shell.execute_reply": "2023-08-13T15:10:05.435016Z",
     "shell.execute_reply.started": "2023-08-13T15:10:04.210793Z"
    }
   },
   "outputs": [],
   "source": [
    "model = CatBoostRegressor(depth=8, learning_rate=0.1, random_state=19072020, iterations=250, logging_level='Silent') \n",
    "model.fit(features_train,target_train, verbose=2)"
   ]
  },
  {
   "cell_type": "code",
   "execution_count": null,
   "metadata": {
    "execution": {
     "iopub.execute_input": "2023-08-13T15:13:21.888985Z",
     "iopub.status.busy": "2023-08-13T15:13:21.888478Z",
     "iopub.status.idle": "2023-08-13T15:13:21.909488Z",
     "shell.execute_reply": "2023-08-13T15:13:21.907756Z",
     "shell.execute_reply.started": "2023-08-13T15:13:21.888944Z"
    }
   },
   "outputs": [],
   "source": [
    "predicted_target_train = model.predict(features_train)\n",
    "predicted_target = model.predict(features_test)\n",
    "print('RMSE - Train Case :-', mean_squared_error(target_train, predicted_target_train)**0.5)\n",
    "print('RMSE - Test Case :-', mean_squared_error(target_test, predicted_target)**0.5)\n",
    "\n",
    "#Least RMSE or mean squared error in this case on the test case, so choosinng this to go ahead"
   ]
  },
  {
   "cell_type": "code",
   "execution_count": null,
   "metadata": {
    "execution": {
     "iopub.execute_input": "2023-08-13T15:14:17.252075Z",
     "iopub.status.busy": "2023-08-13T15:14:17.251470Z",
     "iopub.status.idle": "2023-08-13T15:14:17.276284Z",
     "shell.execute_reply": "2023-08-13T15:14:17.274808Z",
     "shell.execute_reply.started": "2023-08-13T15:14:17.252033Z"
    }
   },
   "outputs": [],
   "source": [
    "accuracy_train = model.score(features_train, predicted_target_train)\n",
    "print(\"R2 - Train\", \":\", accuracy)\n",
    "accuracy_test = model.score(features_test, target_test)\n",
    "print(\"R2 - Test\", \":\", accuracy)"
   ]
  },
  {
   "cell_type": "code",
   "execution_count": null,
   "metadata": {
    "execution": {
     "iopub.execute_input": "2023-08-13T15:15:49.376209Z",
     "iopub.status.busy": "2023-08-13T15:15:49.374870Z",
     "iopub.status.idle": "2023-08-13T15:15:49.385658Z",
     "shell.execute_reply": "2023-08-13T15:15:49.384334Z",
     "shell.execute_reply.started": "2023-08-13T15:15:49.376126Z"
    }
   },
   "outputs": [],
   "source": [
    "predicted_target_train_actual = np.e**predicted_target_train\n",
    "target_train_actual = np.e**target_train\n",
    "predicted_target_actual = np.e**predicted_target\n",
    "target_test_actual = np.e**target_test"
   ]
  },
  {
   "cell_type": "code",
   "execution_count": null,
   "metadata": {
    "execution": {
     "iopub.execute_input": "2023-08-13T15:16:42.975431Z",
     "iopub.status.busy": "2023-08-13T15:16:42.974805Z",
     "iopub.status.idle": "2023-08-13T15:16:42.984109Z",
     "shell.execute_reply": "2023-08-13T15:16:42.982048Z",
     "shell.execute_reply.started": "2023-08-13T15:16:42.975383Z"
    }
   },
   "outputs": [],
   "source": [
    "x_train = []\n",
    "for i in range(0,len(target_train)):\n",
    "    x_train.append(i)"
   ]
  },
  {
   "cell_type": "code",
   "execution_count": null,
   "metadata": {
    "execution": {
     "iopub.execute_input": "2023-08-13T15:16:12.181142Z",
     "iopub.status.busy": "2023-08-13T15:16:12.180475Z",
     "iopub.status.idle": "2023-08-13T15:16:12.189282Z",
     "shell.execute_reply": "2023-08-13T15:16:12.187449Z",
     "shell.execute_reply.started": "2023-08-13T15:16:12.181089Z"
    }
   },
   "outputs": [],
   "source": [
    "x_test = []\n",
    "for i in range(0,len(target_test)):\n",
    "    x_test.append(i)"
   ]
  },
  {
   "cell_type": "code",
   "execution_count": null,
   "metadata": {
    "execution": {
     "iopub.execute_input": "2023-08-13T15:19:10.716734Z",
     "iopub.status.busy": "2023-08-13T15:19:10.714953Z",
     "iopub.status.idle": "2023-08-13T15:19:11.021830Z",
     "shell.execute_reply": "2023-08-13T15:19:11.020460Z",
     "shell.execute_reply.started": "2023-08-13T15:19:10.716674Z"
    }
   },
   "outputs": [],
   "source": [
    "plt.figure(figsize=[12,9])\n",
    "plt.scatter(x_train,predicted_target_train-target_train,label = 'Predicted-Actual')\n",
    "plt.xlabel(\"Serial Number\")\n",
    "plt.ylabel(\"Difference between predicted and actual in log scale\")\n",
    "plt.title(\"Plot of difference between predicted and actual MFR in log scale for train case\")\n",
    "plt.show()"
   ]
  },
  {
   "cell_type": "code",
   "execution_count": null,
   "metadata": {
    "execution": {
     "iopub.execute_input": "2023-08-13T15:19:57.407397Z",
     "iopub.status.busy": "2023-08-13T15:19:57.406880Z",
     "iopub.status.idle": "2023-08-13T15:19:57.719933Z",
     "shell.execute_reply": "2023-08-13T15:19:57.718594Z",
     "shell.execute_reply.started": "2023-08-13T15:19:57.407359Z"
    }
   },
   "outputs": [],
   "source": [
    "plt.figure(figsize=[12,9])\n",
    "plt.scatter(x_train,predicted_target_train_actual-target_train_actual,label = 'Predicted-Actual')\n",
    "plt.xlabel(\"Serial Number\")\n",
    "plt.ylabel(\"Difference between predicted and actual in log scale\")\n",
    "plt.title(\"Plot of difference between predicted and actual MFR for train case\")\n",
    "plt.show()"
   ]
  },
  {
   "cell_type": "code",
   "execution_count": null,
   "metadata": {
    "execution": {
     "iopub.execute_input": "2023-08-13T15:16:13.783737Z",
     "iopub.status.busy": "2023-08-13T15:16:13.782285Z",
     "iopub.status.idle": "2023-08-13T15:16:14.077527Z",
     "shell.execute_reply": "2023-08-13T15:16:14.075653Z",
     "shell.execute_reply.started": "2023-08-13T15:16:13.783669Z"
    }
   },
   "outputs": [],
   "source": [
    "plt.figure(figsize=[12,9])\n",
    "plt.scatter(x_test,predicted_target-target_test,label = 'Predicted-Actual')\n",
    "plt.xlabel(\"Serial Number\")\n",
    "plt.ylabel(\"Difference between predicted and actual in log scale\")\n",
    "plt.title(\"Plot of difference between predicted and actual MFR in log scale for test case\")\n",
    "plt.show()"
   ]
  },
  {
   "cell_type": "code",
   "execution_count": null,
   "metadata": {
    "execution": {
     "iopub.execute_input": "2023-08-13T15:16:20.595800Z",
     "iopub.status.busy": "2023-08-13T15:16:20.595230Z",
     "iopub.status.idle": "2023-08-13T15:16:20.871475Z",
     "shell.execute_reply": "2023-08-13T15:16:20.869786Z",
     "shell.execute_reply.started": "2023-08-13T15:16:20.595750Z"
    }
   },
   "outputs": [],
   "source": [
    "plt.figure(figsize=[12,9])\n",
    "plt.scatter(x_test,predicted_target_actual-target_test_actual,label = 'Predicted-Actual')\n",
    "plt.xlabel(\"Serial Number\")\n",
    "plt.ylabel(\"Difference between predicted and actual\")\n",
    "plt.title(\"Plot of difference between predicted and actual MFR for test case\")\n",
    "plt.show()"
   ]
  },
  {
   "cell_type": "code",
   "execution_count": null,
   "metadata": {},
   "outputs": [
    {
     "name": "stdout",
     "output_type": "stream",
     "text": [
      "Defaulting to user installation because normal site-packages is not writeable\n",
      "Collecting xgboost\n",
      "  Obtaining dependency information for xgboost from https://files.pythonhosted.org/packages/8c/3a/c9c5d4d5c49b132ef15ac7b5ccf56ef1c82efe36cd19414771762e97c00e/xgboost-1.7.6-py3-none-manylinux2014_x86_64.whl.metadata\n",
      "  Downloading xgboost-1.7.6-py3-none-manylinux2014_x86_64.whl.metadata (1.9 kB)\n",
      "Requirement already satisfied: numpy in /usr/lib/python3/dist-packages (from xgboost) (1.21.5)\n",
      "Requirement already satisfied: scipy in /usr/lib/python3/dist-packages (from xgboost) (1.8.0)\n",
      "Downloading xgboost-1.7.6-py3-none-manylinux2014_x86_64.whl (200.3 MB)\n",
      "\u001b[2K   \u001b[38;2;249;38;114m━━━━━━━━━━━━━━━━━\u001b[0m\u001b[38;2;249;38;114m╸\u001b[0m\u001b[38;5;237m━━━━━━━━━━━━━━━━━━━━━━\u001b[0m \u001b[32m88.8/200.3 MB\u001b[0m \u001b[31m7.0 MB/s\u001b[0m eta \u001b[36m0:00:16\u001b[0mm"
     ]
    }
   ],
   "source": [
    "!pip install xgboost"
   ]
  },
  {
   "cell_type": "code",
   "execution_count": null,
   "metadata": {},
   "outputs": [],
   "source": []
  }
 ],
 "metadata": {
  "kernelspec": {
   "display_name": "Python 3 (ipykernel)",
   "language": "python",
   "name": "python3"
  },
  "language_info": {
   "codemirror_mode": {
    "name": "ipython",
    "version": 3
   },
   "file_extension": ".py",
   "mimetype": "text/x-python",
   "name": "python",
   "nbconvert_exporter": "python",
   "pygments_lexer": "ipython3",
   "version": "3.10.12"
  }
 },
 "nbformat": 4,
 "nbformat_minor": 4
}
